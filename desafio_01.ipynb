{
 "cells": [
  {
   "cell_type": "markdown",
   "id": "670f356c",
   "metadata": {},
   "source": [
    "# Desafio 01\n",
    "\n"
   ]
  },
  {
   "cell_type": "code",
   "execution_count": null,
   "id": "ae8b0a79",
   "metadata": {},
   "outputs": [],
   "source": []
  }
 ],
 "metadata": {
  "language_info": {
   "name": "python"
  }
 },
 "nbformat": 4,
 "nbformat_minor": 5
}
