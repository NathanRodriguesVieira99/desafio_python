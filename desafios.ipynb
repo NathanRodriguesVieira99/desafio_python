{
 "cells": [
  {
   "cell_type": "markdown",
   "id": "6e754e71",
   "metadata": {},
   "source": [
    "## Desafio 1"
   ]
  },
  {
   "cell_type": "code",
   "execution_count": null,
   "id": "ad3b217b",
   "metadata": {},
   "outputs": [
    {
     "name": "stdout",
     "output_type": "stream",
     "text": [
      "O número  10  é Feliz\n"
     ]
    }
   ],
   "source": [
    "class N:\n",
    "    typed_numbers = set()\n",
    "\n",
    "    def is_happy(self, typed_number: int) -> bool:\n",
    "\n",
    "  \n",
    "        if typed_number in N.typed_numbers:\n",
    "            N.typed_numbers.clear()\n",
    "            return False\n",
    "\n",
    "        N.typed_numbers.add(typed_number)\n",
    "\n",
    "        sum_function = sum(int(digito)**2 for digito in str(typed_number))\n",
    "\n",
    "\n",
    "        if sum_function == 1:\n",
    "            N.typed_numbers.clear()\n",
    "            return True\n",
    "\n",
    "        return self.is_happy(sum_function)\n",
    "\n",
    "\n",
    "n = N()\n",
    "\n",
    "\n",
    "input_value = input(\"Digite um  número: \")\n",
    "\n",
    "\n",
    "\n",
    "for valor in input_value.split():\n",
    "    try:\n",
    "        typed_number = int(valor)\n",
    "        if n.is_happy(typed_number):\n",
    "            print(f\"O número {typed_number} é Feliz\")\n",
    "        else:\n",
    "            print(f\"O número {typed_number} é  Infeliz\")\n",
    "    except ValueError:\n",
    "        print(f\"Ignorado (não é número válido): {valor}\")\n",
    "\n",
    "\n"
   ]
  },
  {
   "cell_type": "markdown",
   "id": "5dd559f8",
   "metadata": {},
   "source": [
    "## Desafio 2"
   ]
  },
  {
   "cell_type": "markdown",
   "id": "9ed13182",
   "metadata": {},
   "source": [
    "## Desafio 3"
   ]
  }
 ],
 "metadata": {
  "kernelspec": {
   "display_name": "base",
   "language": "python",
   "name": "python3"
  },
  "language_info": {
   "codemirror_mode": {
    "name": "ipython",
    "version": 3
   },
   "file_extension": ".py",
   "mimetype": "text/x-python",
   "name": "python",
   "nbconvert_exporter": "python",
   "pygments_lexer": "ipython3",
   "version": "3.12.7"
  }
 },
 "nbformat": 4,
 "nbformat_minor": 5
}
