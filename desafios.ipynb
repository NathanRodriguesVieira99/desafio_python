{
 "cells": [
  {
   "cell_type": "markdown",
   "id": "6e754e71",
   "metadata": {},
   "source": [
    "## Desafio 1"
   ]
  },
  {
   "cell_type": "markdown",
   "id": "5dd559f8",
   "metadata": {},
   "source": [
    "## Desafio 2"
   ]
  },
  {
   "cell_type": "markdown",
   "id": "9ed13182",
   "metadata": {},
   "source": [
    "## Desafio 3"
   ]
  }
 ],
 "metadata": {
  "language_info": {
   "name": "python"
  }
 },
 "nbformat": 4,
 "nbformat_minor": 5
}
