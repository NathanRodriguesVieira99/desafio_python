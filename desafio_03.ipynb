{
 "cells": [
  {
   "cell_type": "markdown",
   "id": "9e2d4f03",
   "metadata": {},
   "source": [
    "# Desafio 03\n",
    "\n"
   ]
  },
  {
   "cell_type": "code",
   "execution_count": null,
   "id": "7f983dd9",
   "metadata": {},
   "outputs": [],
   "source": []
  }
 ],
 "metadata": {
  "language_info": {
   "name": "python"
  }
 },
 "nbformat": 4,
 "nbformat_minor": 5
}
